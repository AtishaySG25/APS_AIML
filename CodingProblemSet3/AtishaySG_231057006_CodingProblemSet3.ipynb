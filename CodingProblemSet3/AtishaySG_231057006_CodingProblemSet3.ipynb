{
 "cells": [
  {
   "cell_type": "code",
   "execution_count": 1,
   "metadata": {},
   "outputs": [
    {
     "name": "stderr",
     "output_type": "stream",
     "text": [
      "C:\\Users\\ATISHAY SG\\AppData\\Local\\Temp\\ipykernel_16340\\318361530.py:5: VisibleDeprecationWarning: Reading unicode strings without specifying the encoding argument is deprecated. Set the encoding, use None for the system default.\n",
      "  data_A = np.genfromtxt('personKeyTimingA.txt', delimiter=',', names=['time', 'key'], dtype=None)\n",
      "C:\\Users\\ATISHAY SG\\AppData\\Local\\Temp\\ipykernel_16340\\318361530.py:6: VisibleDeprecationWarning: Reading unicode strings without specifying the encoding argument is deprecated. Set the encoding, use None for the system default.\n",
      "  data_B = np.genfromtxt('personKeyTimingB.txt', delimiter=',', names=['time', 'key'], dtype=None)\n"
     ]
    },
    {
     "ename": "UFuncTypeError",
     "evalue": "ufunc 'subtract' did not contain a loop with signature matching types (dtype('S7'), dtype('S7')) -> None",
     "output_type": "error",
     "traceback": [
      "\u001b[1;31m---------------------------------------------------------------------------\u001b[0m",
      "\u001b[1;31mUFuncTypeError\u001b[0m                            Traceback (most recent call last)",
      "\u001b[1;32md:\\APS\\APS_AIML\\CodingProblemSet3\\AtishaySG_231057006_CodingProblemSet3.ipynb Cell 1\u001b[0m line \u001b[0;36m9\n\u001b[0;32m      <a href='vscode-notebook-cell:/d%3A/APS/APS_AIML/CodingProblemSet3/AtishaySG_231057006_CodingProblemSet3.ipynb#W0sZmlsZQ%3D%3D?line=5'>6</a>\u001b[0m data_B \u001b[39m=\u001b[39m np\u001b[39m.\u001b[39mgenfromtxt(\u001b[39m'\u001b[39m\u001b[39mpersonKeyTimingB.txt\u001b[39m\u001b[39m'\u001b[39m, delimiter\u001b[39m=\u001b[39m\u001b[39m'\u001b[39m\u001b[39m,\u001b[39m\u001b[39m'\u001b[39m, names\u001b[39m=\u001b[39m[\u001b[39m'\u001b[39m\u001b[39mtime\u001b[39m\u001b[39m'\u001b[39m, \u001b[39m'\u001b[39m\u001b[39mkey\u001b[39m\u001b[39m'\u001b[39m], dtype\u001b[39m=\u001b[39m\u001b[39mNone\u001b[39;00m)\n\u001b[0;32m      <a href='vscode-notebook-cell:/d%3A/APS/APS_AIML/CodingProblemSet3/AtishaySG_231057006_CodingProblemSet3.ipynb#W0sZmlsZQ%3D%3D?line=7'>8</a>\u001b[0m \u001b[39m# Calculate keystroke times\u001b[39;00m\n\u001b[1;32m----> <a href='vscode-notebook-cell:/d%3A/APS/APS_AIML/CodingProblemSet3/AtishaySG_231057006_CodingProblemSet3.ipynb#W0sZmlsZQ%3D%3D?line=8'>9</a>\u001b[0m times_A \u001b[39m=\u001b[39m np\u001b[39m.\u001b[39;49mdiff(data_A[\u001b[39m'\u001b[39;49m\u001b[39mtime\u001b[39;49m\u001b[39m'\u001b[39;49m])\n\u001b[0;32m     <a href='vscode-notebook-cell:/d%3A/APS/APS_AIML/CodingProblemSet3/AtishaySG_231057006_CodingProblemSet3.ipynb#W0sZmlsZQ%3D%3D?line=9'>10</a>\u001b[0m times_B \u001b[39m=\u001b[39m np\u001b[39m.\u001b[39mdiff(data_B[\u001b[39m'\u001b[39m\u001b[39mtime\u001b[39m\u001b[39m'\u001b[39m])\n\u001b[0;32m     <a href='vscode-notebook-cell:/d%3A/APS/APS_AIML/CodingProblemSet3/AtishaySG_231057006_CodingProblemSet3.ipynb#W0sZmlsZQ%3D%3D?line=11'>12</a>\u001b[0m \u001b[39m# Plot density histograms\u001b[39;00m\n",
      "File \u001b[1;32m<__array_function__ internals>:180\u001b[0m, in \u001b[0;36mdiff\u001b[1;34m(*args, **kwargs)\u001b[0m\n",
      "File \u001b[1;32mc:\\Users\\ATISHAY SG\\anaconda3\\envs\\AIMLSem1\\lib\\site-packages\\numpy\\lib\\function_base.py:1447\u001b[0m, in \u001b[0;36mdiff\u001b[1;34m(a, n, axis, prepend, append)\u001b[0m\n\u001b[0;32m   1445\u001b[0m op \u001b[39m=\u001b[39m not_equal \u001b[39mif\u001b[39;00m a\u001b[39m.\u001b[39mdtype \u001b[39m==\u001b[39m np\u001b[39m.\u001b[39mbool_ \u001b[39melse\u001b[39;00m subtract\n\u001b[0;32m   1446\u001b[0m \u001b[39mfor\u001b[39;00m _ \u001b[39min\u001b[39;00m \u001b[39mrange\u001b[39m(n):\n\u001b[1;32m-> 1447\u001b[0m     a \u001b[39m=\u001b[39m op(a[slice1], a[slice2])\n\u001b[0;32m   1449\u001b[0m \u001b[39mreturn\u001b[39;00m a\n",
      "\u001b[1;31mUFuncTypeError\u001b[0m: ufunc 'subtract' did not contain a loop with signature matching types (dtype('S7'), dtype('S7')) -> None"
     ]
    }
   ],
   "source": [
    "import matplotlib.pyplot as plt\n",
    "import numpy as np\n",
    "\n",
    "# Read data from the text file\n",
    "data_A = np.genfromtxt('personKeyTimingA.txt', delimiter=',', names=['time', 'key'], dtype=None)\n",
    "data_B = np.genfromtxt('personKeyTimingB.txt', delimiter=',', names=['time', 'key'], dtype=None)\n",
    "\n",
    "# Calculate keystroke times\n",
    "times_A = np.diff(data_A['time'])\n",
    "times_B = np.diff(data_B['time'])\n",
    "\n",
    "# Plot density histograms\n",
    "plt.hist(times_A, bins=50, density=True, alpha=0.5, label='User A')\n",
    "plt.hist(times_B, bins=50, density=True, alpha=0.5, label='User B')\n",
    "\n",
    "# Add labels and title\n",
    "plt.xlabel('Keystroke Time (milliseconds)')\n",
    "plt.ylabel('Density')\n",
    "plt.title('Density Histograms of Keystroke Times for Users A and B')\n",
    "\n",
    "# Add a legend\n",
    "plt.legend()\n",
    "\n",
    "# Show the plot\n",
    "plt.show()\n"
   ]
  }
 ],
 "metadata": {
  "kernelspec": {
   "display_name": "AIMLSem1",
   "language": "python",
   "name": "python3"
  },
  "language_info": {
   "codemirror_mode": {
    "name": "ipython",
    "version": 3
   },
   "file_extension": ".py",
   "mimetype": "text/x-python",
   "name": "python",
   "nbconvert_exporter": "python",
   "pygments_lexer": "ipython3",
   "version": "3.9.17"
  }
 },
 "nbformat": 4,
 "nbformat_minor": 2
}
